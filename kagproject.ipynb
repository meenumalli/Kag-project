{
  "nbformat": 4,
  "nbformat_minor": 0,
  "metadata": {
    "colab": {
      "name": "kagproject.ipynb",
      "provenance": [],
      "collapsed_sections": []
    },
    "kernelspec": {
      "name": "python3",
      "display_name": "Python 3"
    },
    "language_info": {
      "name": "python"
    }
  },
  "cells": [
    {
      "cell_type": "code",
      "execution_count": null,
      "metadata": {
        "id": "kI90PKf9OF_z"
      },
      "outputs": [],
      "source": [
        "import numpy as np\n",
        "import pandas as pd"
      ]
    },
    {
      "cell_type": "code",
      "source": [
        "path='/content/makeSenseOfCensus.csv'\n",
        "file_csv=pd.read_csv('/content/makeSenseOfCensus.csv')"
      ],
      "metadata": {
        "id": "5AXyhlKAPvt4"
      },
      "execution_count": null,
      "outputs": []
    },
    {
      "cell_type": "code",
      "source": [
        "file_csv.head()"
      ],
      "metadata": {
        "colab": {
          "base_uri": "https://localhost:8080/",
          "height": 267
        },
        "id": "lEqlrcjIQ_35",
        "outputId": "2fd370ab-6b3a-404c-83e9-4e64cf273470"
      },
      "execution_count": null,
      "outputs": [
        {
          "output_type": "execute_result",
          "data": {
            "text/plain": [
              "   age  education-num  race  sex  capital-gain  capital-loss  hours-per-week  \\\n",
              "0   39             13     4    1          2174             0              40   \n",
              "1   50             13     4    1             0             0              13   \n",
              "2   38              9     4    1             0             0              40   \n",
              "3   53              7     2    1             0             0              40   \n",
              "4   28             13     2    0             0             0              40   \n",
              "\n",
              "   income  \n",
              "0       0  \n",
              "1       0  \n",
              "2       0  \n",
              "3       0  \n",
              "4       0  "
            ],
            "text/html": [
              "\n",
              "  <div id=\"df-25511867-cf42-49e3-960b-0ef606e21341\">\n",
              "    <div class=\"colab-df-container\">\n",
              "      <div>\n",
              "<style scoped>\n",
              "    .dataframe tbody tr th:only-of-type {\n",
              "        vertical-align: middle;\n",
              "    }\n",
              "\n",
              "    .dataframe tbody tr th {\n",
              "        vertical-align: top;\n",
              "    }\n",
              "\n",
              "    .dataframe thead th {\n",
              "        text-align: right;\n",
              "    }\n",
              "</style>\n",
              "<table border=\"1\" class=\"dataframe\">\n",
              "  <thead>\n",
              "    <tr style=\"text-align: right;\">\n",
              "      <th></th>\n",
              "      <th>age</th>\n",
              "      <th>education-num</th>\n",
              "      <th>race</th>\n",
              "      <th>sex</th>\n",
              "      <th>capital-gain</th>\n",
              "      <th>capital-loss</th>\n",
              "      <th>hours-per-week</th>\n",
              "      <th>income</th>\n",
              "    </tr>\n",
              "  </thead>\n",
              "  <tbody>\n",
              "    <tr>\n",
              "      <th>0</th>\n",
              "      <td>39</td>\n",
              "      <td>13</td>\n",
              "      <td>4</td>\n",
              "      <td>1</td>\n",
              "      <td>2174</td>\n",
              "      <td>0</td>\n",
              "      <td>40</td>\n",
              "      <td>0</td>\n",
              "    </tr>\n",
              "    <tr>\n",
              "      <th>1</th>\n",
              "      <td>50</td>\n",
              "      <td>13</td>\n",
              "      <td>4</td>\n",
              "      <td>1</td>\n",
              "      <td>0</td>\n",
              "      <td>0</td>\n",
              "      <td>13</td>\n",
              "      <td>0</td>\n",
              "    </tr>\n",
              "    <tr>\n",
              "      <th>2</th>\n",
              "      <td>38</td>\n",
              "      <td>9</td>\n",
              "      <td>4</td>\n",
              "      <td>1</td>\n",
              "      <td>0</td>\n",
              "      <td>0</td>\n",
              "      <td>40</td>\n",
              "      <td>0</td>\n",
              "    </tr>\n",
              "    <tr>\n",
              "      <th>3</th>\n",
              "      <td>53</td>\n",
              "      <td>7</td>\n",
              "      <td>2</td>\n",
              "      <td>1</td>\n",
              "      <td>0</td>\n",
              "      <td>0</td>\n",
              "      <td>40</td>\n",
              "      <td>0</td>\n",
              "    </tr>\n",
              "    <tr>\n",
              "      <th>4</th>\n",
              "      <td>28</td>\n",
              "      <td>13</td>\n",
              "      <td>2</td>\n",
              "      <td>0</td>\n",
              "      <td>0</td>\n",
              "      <td>0</td>\n",
              "      <td>40</td>\n",
              "      <td>0</td>\n",
              "    </tr>\n",
              "  </tbody>\n",
              "</table>\n",
              "</div>\n",
              "      <button class=\"colab-df-convert\" onclick=\"convertToInteractive('df-25511867-cf42-49e3-960b-0ef606e21341')\"\n",
              "              title=\"Convert this dataframe to an interactive table.\"\n",
              "              style=\"display:none;\">\n",
              "        \n",
              "  <svg xmlns=\"http://www.w3.org/2000/svg\" height=\"24px\"viewBox=\"0 0 24 24\"\n",
              "       width=\"24px\">\n",
              "    <path d=\"M0 0h24v24H0V0z\" fill=\"none\"/>\n",
              "    <path d=\"M18.56 5.44l.94 2.06.94-2.06 2.06-.94-2.06-.94-.94-2.06-.94 2.06-2.06.94zm-11 1L8.5 8.5l.94-2.06 2.06-.94-2.06-.94L8.5 2.5l-.94 2.06-2.06.94zm10 10l.94 2.06.94-2.06 2.06-.94-2.06-.94-.94-2.06-.94 2.06-2.06.94z\"/><path d=\"M17.41 7.96l-1.37-1.37c-.4-.4-.92-.59-1.43-.59-.52 0-1.04.2-1.43.59L10.3 9.45l-7.72 7.72c-.78.78-.78 2.05 0 2.83L4 21.41c.39.39.9.59 1.41.59.51 0 1.02-.2 1.41-.59l7.78-7.78 2.81-2.81c.8-.78.8-2.07 0-2.86zM5.41 20L4 18.59l7.72-7.72 1.47 1.35L5.41 20z\"/>\n",
              "  </svg>\n",
              "      </button>\n",
              "      \n",
              "  <style>\n",
              "    .colab-df-container {\n",
              "      display:flex;\n",
              "      flex-wrap:wrap;\n",
              "      gap: 12px;\n",
              "    }\n",
              "\n",
              "    .colab-df-convert {\n",
              "      background-color: #E8F0FE;\n",
              "      border: none;\n",
              "      border-radius: 50%;\n",
              "      cursor: pointer;\n",
              "      display: none;\n",
              "      fill: #1967D2;\n",
              "      height: 32px;\n",
              "      padding: 0 0 0 0;\n",
              "      width: 32px;\n",
              "    }\n",
              "\n",
              "    .colab-df-convert:hover {\n",
              "      background-color: #E2EBFA;\n",
              "      box-shadow: 0px 1px 2px rgba(60, 64, 67, 0.3), 0px 1px 3px 1px rgba(60, 64, 67, 0.15);\n",
              "      fill: #174EA6;\n",
              "    }\n",
              "\n",
              "    [theme=dark] .colab-df-convert {\n",
              "      background-color: #3B4455;\n",
              "      fill: #D2E3FC;\n",
              "    }\n",
              "\n",
              "    [theme=dark] .colab-df-convert:hover {\n",
              "      background-color: #434B5C;\n",
              "      box-shadow: 0px 1px 3px 1px rgba(0, 0, 0, 0.15);\n",
              "      filter: drop-shadow(0px 1px 2px rgba(0, 0, 0, 0.3));\n",
              "      fill: #FFFFFF;\n",
              "    }\n",
              "  </style>\n",
              "\n",
              "      <script>\n",
              "        const buttonEl =\n",
              "          document.querySelector('#df-25511867-cf42-49e3-960b-0ef606e21341 button.colab-df-convert');\n",
              "        buttonEl.style.display =\n",
              "          google.colab.kernel.accessAllowed ? 'block' : 'none';\n",
              "\n",
              "        async function convertToInteractive(key) {\n",
              "          const element = document.querySelector('#df-25511867-cf42-49e3-960b-0ef606e21341');\n",
              "          const dataTable =\n",
              "            await google.colab.kernel.invokeFunction('convertToInteractive',\n",
              "                                                     [key], {});\n",
              "          if (!dataTable) return;\n",
              "\n",
              "          const docLinkHtml = 'Like what you see? Visit the ' +\n",
              "            '<a target=\"_blank\" href=https://colab.research.google.com/notebooks/data_table.ipynb>data table notebook</a>'\n",
              "            + ' to learn more about interactive tables.';\n",
              "          element.innerHTML = '';\n",
              "          dataTable['output_type'] = 'display_data';\n",
              "          await google.colab.output.renderOutput(dataTable, element);\n",
              "          const docLink = document.createElement('div');\n",
              "          docLink.innerHTML = docLinkHtml;\n",
              "          element.appendChild(docLink);\n",
              "        }\n",
              "      </script>\n",
              "    </div>\n",
              "  </div>\n",
              "  "
            ]
          },
          "metadata": {},
          "execution_count": 10
        }
      ]
    },
    {
      "cell_type": "code",
      "source": [
        "data= np.genfromtxt(path,delimiter=',',skip_header=1)\n",
        "data"
      ],
      "metadata": {
        "colab": {
          "base_uri": "https://localhost:8080/"
        },
        "id": "nZ8Az31cP16r",
        "outputId": "5165cfb4-ffcf-4920-9393-7537d19b562a"
      },
      "execution_count": null,
      "outputs": [
        {
          "output_type": "execute_result",
          "data": {
            "text/plain": [
              "array([[39., 13.,  4., ...,  0., 40.,  0.],\n",
              "       [50., 13.,  4., ...,  0., 13.,  0.],\n",
              "       [38.,  9.,  4., ...,  0., 40.,  0.],\n",
              "       ...,\n",
              "       [48., 13.,  4., ...,  0., 58.,  1.],\n",
              "       [40., 10.,  4., ...,  0., 40.,  0.],\n",
              "       [39., 13.,  4., ...,  0., 50.,  1.]])"
            ]
          },
          "metadata": {},
          "execution_count": 5
        }
      ]
    },
    {
      "cell_type": "code",
      "source": [
        "age=data[:,0]\n"
      ],
      "metadata": {
        "id": "2z8dUn0HQRiU"
      },
      "execution_count": null,
      "outputs": []
    },
    {
      "cell_type": "code",
      "source": [
        "import numpy as np\n",
        "import pandas as pd\n"
      ],
      "metadata": {
        "id": "yN4iFkj3RvMH"
      },
      "execution_count": 2,
      "outputs": []
    },
    {
      "cell_type": "code",
      "source": [
        "path='/content/KAG_Conversion_Data.csv'\n",
        "da=pd.read_csv(path)\n",
        "da.head"
      ],
      "metadata": {
        "colab": {
          "base_uri": "https://localhost:8080/"
        },
        "id": "OIraCKUexHeh",
        "outputId": "8fc3cc50-2016-419a-fd3a-76c3e01cca16"
      },
      "execution_count": 4,
      "outputs": [
        {
          "output_type": "execute_result",
          "data": {
            "text/plain": [
              "<bound method NDFrame.head of         ad_id  xyz_campaign_id  fb_campaign_id    age gender  interest  \\\n",
              "0      708746              916          103916  30-34      M        15   \n",
              "1      708749              916          103917  30-34      M        16   \n",
              "2      708771              916          103920  30-34      M        20   \n",
              "3      708815              916          103928  30-34      M        28   \n",
              "4      708818              916          103928  30-34      M        28   \n",
              "...       ...              ...             ...    ...    ...       ...   \n",
              "1138  1314410             1178          179977  45-49      F       109   \n",
              "1139  1314411             1178          179978  45-49      F       110   \n",
              "1140  1314412             1178          179979  45-49      F       111   \n",
              "1141  1314414             1178          179981  45-49      F       113   \n",
              "1142  1314415             1178          179982  45-49      F       114   \n",
              "\n",
              "      Impressions  Clicks       Spent  Total_Conversion  Approved_Conversion  \n",
              "0            7350       1    1.430000                 2                    1  \n",
              "1           17861       2    1.820000                 2                    0  \n",
              "2             693       0    0.000000                 1                    0  \n",
              "3            4259       1    1.250000                 1                    0  \n",
              "4            4133       1    1.290000                 1                    1  \n",
              "...           ...     ...         ...               ...                  ...  \n",
              "1138      1129773     252  358.189997                13                    2  \n",
              "1139       637549     120  173.880003                 3                    0  \n",
              "1140       151531      28   40.289999                 2                    0  \n",
              "1141       790253     135  198.710001                 8                    2  \n",
              "1142       513161     114  165.609999                 5                    2  \n",
              "\n",
              "[1143 rows x 11 columns]>"
            ]
          },
          "metadata": {},
          "execution_count": 4
        }
      ]
    },
    {
      "cell_type": "code",
      "source": [
        "data=np.genfromtxt(path,delimiter=',',skip_header=1)\n",
        "data1=np.genfromtxt(path,delimiter=',',skip_header=1,dtype=str)\n",
        "print (da)"
      ],
      "metadata": {
        "colab": {
          "base_uri": "https://localhost:8080/"
        },
        "id": "s70Yh910xcqn",
        "outputId": "6a4410cd-16c9-4630-dab4-7650de251d87"
      },
      "execution_count": 36,
      "outputs": [
        {
          "output_type": "stream",
          "name": "stdout",
          "text": [
            "        ad_id  xyz_campaign_id  fb_campaign_id    age gender  interest  \\\n",
            "0      708746              916          103916  30-34      M        15   \n",
            "1      708749              916          103917  30-34      M        16   \n",
            "2      708771              916          103920  30-34      M        20   \n",
            "3      708815              916          103928  30-34      M        28   \n",
            "4      708818              916          103928  30-34      M        28   \n",
            "...       ...              ...             ...    ...    ...       ...   \n",
            "1138  1314410             1178          179977  45-49      F       109   \n",
            "1139  1314411             1178          179978  45-49      F       110   \n",
            "1140  1314412             1178          179979  45-49      F       111   \n",
            "1141  1314414             1178          179981  45-49      F       113   \n",
            "1142  1314415             1178          179982  45-49      F       114   \n",
            "\n",
            "      Impressions  Clicks       Spent  Total_Conversion  Approved_Conversion  \n",
            "0            7350       1    1.430000                 2                    1  \n",
            "1           17861       2    1.820000                 2                    0  \n",
            "2             693       0    0.000000                 1                    0  \n",
            "3            4259       1    1.250000                 1                    0  \n",
            "4            4133       1    1.290000                 1                    1  \n",
            "...           ...     ...         ...               ...                  ...  \n",
            "1138      1129773     252  358.189997                13                    2  \n",
            "1139       637549     120  173.880003                 3                    0  \n",
            "1140       151531      28   40.289999                 2                    0  \n",
            "1141       790253     135  198.710001                 8                    2  \n",
            "1142       513161     114  165.609999                 5                    2  \n",
            "\n",
            "[1143 rows x 11 columns]\n"
          ]
        }
      ]
    },
    {
      "cell_type": "code",
      "source": [
        "ids=data[:,1]\n",
        "uniqueids=np.unique([ids])\n",
        "print(\" Unique ad campaign ids are\",uniqueids)\n",
        "x=np.unique(ids,return_counts=True)\n",
        "print(\"Ids occurence count\",x)"
      ],
      "metadata": {
        "colab": {
          "base_uri": "https://localhost:8080/"
        },
        "id": "azNtpVokyTjq",
        "outputId": "22163eaa-2dd4-4069-e4d0-b0f2e5eb9d39"
      },
      "execution_count": 16,
      "outputs": [
        {
          "output_type": "stream",
          "name": "stdout",
          "text": [
            " Unique ad campaign ids are [ 916.  936. 1178.]\n",
            "Ids occurence count (array([ 916.,  936., 1178.]), array([ 54, 464, 625]))\n"
          ]
        }
      ]
    },
    {
      "cell_type": "code",
      "source": [
        "age=data1[:,3]\n",
        "agegroups=np.unique([age])\n",
        "print (age)\n",
        "print(\"The age groups targeted for campaign are\",agegroups)"
      ],
      "metadata": {
        "colab": {
          "base_uri": "https://localhost:8080/"
        },
        "id": "_PF6P-xi2onJ",
        "outputId": "d071f4cb-e722-40a6-9803-90e51435b55b"
      },
      "execution_count": 38,
      "outputs": [
        {
          "output_type": "stream",
          "name": "stdout",
          "text": [
            "['30-34' '30-34' '30-34' ... '45-49' '45-49' '45-49']\n",
            "The age groups targeted for campaign are ['30-34' '35-39' '40-44' '45-49']\n"
          ]
        }
      ]
    },
    {
      "cell_type": "code",
      "source": [
        "amountspent=data[:,8]\n",
        "maxamount=amountspent.max()\n",
        "print(\"The maximum amount spent is\",maxamount)\n",
        "minamount=amountspent.min()\n",
        "print(\"The minimum amount spent is\",minamount)\n",
        "avgamount=amountspent.mean()\n",
        "print(\"The average amount spent is\",avgamount)"
      ],
      "metadata": {
        "colab": {
          "base_uri": "https://localhost:8080/"
        },
        "id": "yilR7aWb4-Io",
        "outputId": "09280f5d-ca1e-4bd1-892e-80b16f57b1cc"
      },
      "execution_count": 30,
      "outputs": [
        {
          "output_type": "stream",
          "name": "stdout",
          "text": [
            "The maximum amount spent is 639.9499981\n",
            "The minimum amount spent is 0.0\n",
            "The average amount spent is 51.36065613141295\n"
          ]
        }
      ]
    },
    {
      "cell_type": "code",
      "source": [
        "clicks=data[:,7]\n",
        "ids=data[:,0]\n",
        "maxclicks=clicks.max()\n",
        "print(maxclicks)\n",
        "x=(clicks==maxclicks)\n",
        "Id=ids[x]\n",
        "print('The ID having max number of Ads is',Id)\n",
        "\n",
        "\n"
      ],
      "metadata": {
        "colab": {
          "base_uri": "https://localhost:8080/"
        },
        "id": "qU1Url0y70WF",
        "outputId": "e1b5867b-5317-40ba-bf3e-a750eefcc7cf"
      },
      "execution_count": 35,
      "outputs": [
        {
          "output_type": "stream",
          "name": "stdout",
          "text": [
            "421.0\n",
            "The ID having max number of Ads is [1121814.]\n"
          ]
        }
      ]
    },
    {
      "cell_type": "code",
      "source": [
        "revenue=data[:,10]\n",
        "clicks=data[:,7]\n",
        "maxclicks=clicks.max()\n",
        "y=(clicks==maxclicks)\n",
        "r=revenue[y]\n",
        "print('Number of people who bought after most clicks',r)\\\n",
        "\n"
      ],
      "metadata": {
        "colab": {
          "base_uri": "https://localhost:8080/"
        },
        "id": "6Pv9eKS69Vjd",
        "outputId": "b9a0f57d-3aff-4ef2-94f2-e52f1ddf8b04"
      },
      "execution_count": 41,
      "outputs": [
        {
          "output_type": "stream",
          "name": "stdout",
          "text": [
            "Number of people who bought after most clicks [13.]\n"
          ]
        }
      ]
    },
    {
      "cell_type": "code",
      "source": [
        "print('Maximum revenue is',revenue.max())\n",
        "z=(revenue==revenue.max())\n",
        "details=data[z]\n",
        "print('Details of the product with maximum revenue is',details)"
      ],
      "metadata": {
        "colab": {
          "base_uri": "https://localhost:8080/"
        },
        "id": "E8dpNh-_HefJ",
        "outputId": "a3b290cd-3661-4d70-ed39-f6109873df77"
      },
      "execution_count": 44,
      "outputs": [
        {
          "output_type": "stream",
          "name": "stdout",
          "text": [
            "Maximum revenue is 21.0\n",
            "Details of the product with maximum revenue is [[1.12110400e+06 1.17800000e+03 1.44533000e+05            nan\n",
            "             nan 1.60000000e+01 2.08066600e+06 2.02000000e+02\n",
            "  3.60150001e+02 4.00000000e+01 2.10000000e+01]]\n"
          ]
        }
      ]
    }
  ]
}